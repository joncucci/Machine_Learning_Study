{
 "cells": [
  {
   "cell_type": "code",
   "execution_count": 18,
   "id": "c86b2136",
   "metadata": {},
   "outputs": [],
   "source": [
    "import numpy as np\n",
    "import time"
   ]
  },
  {
   "cell_type": "code",
   "execution_count": 21,
   "id": "2dfd3183",
   "metadata": {},
   "outputs": [
    {
     "name": "stdout",
     "output_type": "stream",
     "text": [
      "[[1. 1. 1. 1. 1.]\n",
      " [1. 0. 0. 0. 1.]\n",
      " [1. 0. 9. 0. 1.]\n",
      " [1. 0. 0. 0. 1.]\n",
      " [1. 1. 1. 1. 1.]]\n",
      "\n",
      "[[1. 1. 1. 1. 1.]\n",
      " [1. 0. 0. 0. 1.]\n",
      " [1. 0. 9. 0. 1.]\n",
      " [1. 0. 0. 0. 1.]\n",
      " [1. 1. 1. 1. 1.]]\n"
     ]
    }
   ],
   "source": [
    "'''\n",
    "Try to make matrix:\n",
    "1 1 1 1 1\n",
    "1 0 0 0 1\n",
    "1 0 9 0 1\n",
    "1 0 0 0 1\n",
    "1 1 1 1 1\n",
    "'''\n",
    "\n",
    "# My code\n",
    "matrix = np.ones((5,5))\n",
    "for row in range(matrix.shape[0]):\n",
    "    if row in (0, 4):\n",
    "        continue\n",
    "    for col in range(matrix.shape[1]):\n",
    "        if col in (0,4):\n",
    "            continue\n",
    "        elif (row, col) == (2, 2):\n",
    "            matrix[row, col] = 9\n",
    "        else:\n",
    "            matrix[row, col] = 0\n",
    "print(matrix)\n",
    "\n",
    "# His code\n",
    "print(\"\")\n",
    "ones = np.ones((5,5))\n",
    "zeros = np.zeros((3,3))\n",
    "zeros[1, 1] = 9\n",
    "ones[1:4, 1:4] = zeros\n",
    "print(ones)"
   ]
  },
  {
   "cell_type": "code",
   "execution_count": 41,
   "id": "5282cbfb",
   "metadata": {},
   "outputs": [
    {
     "data": {
      "text/plain": [
       "array([[ 4.,  5.],\n",
       "       [24., 25.],\n",
       "       [29., 30.]])"
      ]
     },
     "execution_count": 41,
     "metadata": {},
     "output_type": "execute_result"
    }
   ],
   "source": [
    "'''\n",
    "\n",
    "1  2  3  4  5\n",
    "6  7  8  9  10\n",
    "11 12 13 14 15\n",
    "16 17 18 19 20 \n",
    "21 22 23 24 25\n",
    "26 27 28 29 30\n",
    "\n",
    "'''\n",
    "\n",
    "# Set up\n",
    "a = np.zeros((6, 5))\n",
    "for row in range(a.shape[0]):\n",
    "    for col in range(a.shape[1]):\n",
    "        a[row, col] = 1 + col + 5 * row\n",
    "        \n",
    "'''\n",
    "\n",
    "11 12 \n",
    "16 17\n",
    "\n",
    "'''\n",
    "a[2:4, 0:2]\n",
    "\n",
    "\n",
    "'''\n",
    "2\n",
    "    8\n",
    "        14\n",
    "            20\n",
    "'''\n",
    "\n",
    "a[[0,1,2,3], [1,2,3,4]]\n",
    "\n",
    "'''\n",
    "4  5\n",
    "\n",
    "\n",
    "24 25\n",
    "29 30\n",
    "'''\n",
    "\n",
    "a[[0,4,5], 3:]"
   ]
  }
 ],
 "metadata": {
  "kernelspec": {
   "display_name": "Python 3 (ipykernel)",
   "language": "python",
   "name": "python3"
  },
  "language_info": {
   "codemirror_mode": {
    "name": "ipython",
    "version": 3
   },
   "file_extension": ".py",
   "mimetype": "text/x-python",
   "name": "python",
   "nbconvert_exporter": "python",
   "pygments_lexer": "ipython3",
   "version": "3.9.5"
  }
 },
 "nbformat": 4,
 "nbformat_minor": 5
}
